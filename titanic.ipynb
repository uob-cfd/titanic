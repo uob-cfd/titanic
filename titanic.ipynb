{
 "cells": [
  {
   "cell_type": "markdown",
   "id": "8563987a",
   "metadata": {},
   "source": [
    "# Women and children first?"
   ]
  },
  {
   "cell_type": "markdown",
   "id": "2fc59cab",
   "metadata": {},
   "source": [
    "## Preliminaries"
   ]
  },
  {
   "cell_type": "code",
   "execution_count": null,
   "id": "5bf492cd",
   "metadata": {},
   "outputs": [],
   "source": [
    "# Run this cell to start.\n",
    "import numpy as np\n",
    "import pandas as pd\n",
    "# Safe settings for Pandas.\n",
    "pd.set_option('mode.chained_assignment', 'raise')\n",
    "\n",
    "%matplotlib inline\n",
    "import matplotlib.pyplot as plt\n",
    "plt.style.use('fivethirtyeight')\n",
    "\n",
    "# Load the OKpy test library and tests.\n",
    "from client.api.notebook import Notebook\n",
    "ok = Notebook('titanic.ok')"
   ]
  },
  {
   "cell_type": "markdown",
   "id": "8ed8578c",
   "metadata": {},
   "source": [
    "The tests in this notebook usually do not test if you have the *right* answer,\n",
    "but only if you have the *right sort* of answer.  *Be careful* -- the tests\n",
    "could pass, but your answer could still be wrong."
   ]
  },
  {
   "cell_type": "markdown",
   "id": "a460e87c",
   "metadata": {},
   "source": [
    "## Background\n",
    "\n",
    "We are going to look at the details of who was lost, and who survived, in the sinking of the RMS Titanic.\n",
    "\n",
    "We first read the dataset containing information about the passengers and crew\n",
    "who were on the RMS Titanic when it sank.\n",
    "\n",
    "The data file is `titanic_stlearn.csv`.\n",
    "\n",
    "See the [Titanic dataset page](https://github.com/matthew-brett/datasets/tree/master/titanic) for more detail.\n",
    "\n",
    "You might also want to look at [Encylopedia\n",
    "Titanica](https://www.encyclopedia-titanica.org/titanic-statistics.html) for\n",
    "more background."
   ]
  },
  {
   "cell_type": "code",
   "execution_count": null,
   "id": "8fd8aa31",
   "metadata": {},
   "outputs": [],
   "source": [
    "titanic = ...\n",
    "titanic.head()"
   ]
  },
  {
   "cell_type": "code",
   "execution_count": null,
   "id": "239f2979",
   "metadata": {},
   "outputs": [],
   "source": [
    "# Test you are on the right track.\n",
    "_ = ok.grade('q_01_titanic')"
   ]
  },
  {
   "cell_type": "markdown",
   "id": "093fc4d4",
   "metadata": {},
   "source": [
    "This data file contains the following columns:\n",
    "\n",
    "* `name`: a string with the name of the passenger.\n",
    "* `gender`: a string with one of two labels: \"male\" and \"female\".\n",
    "* `age`: a numeric value with the person's age on the day of the sinking. The\n",
    "  age of babies (under 12 months) is given as a fraction of one year, rounded\n",
    "  to the nearest month (2 months = 2/12 = 0.1667).\n",
    "* `class`: a string specifying the class for passengers: \"1st\", \"2nd\", \"3rd\";\n",
    "  or the type of service aboard for crew members. See below for discussion of\n",
    "  passengers, crew and the crew service types.\n",
    "* `embarked`: a string with the person's port of embarkation, one of:\n",
    "  \"Belfast\", \"Cherbourg\", \"Queenstown\" or \"Southampton\".\n",
    "* `country`: a string with the person's home country.\n",
    "* `ticketno`: a numeric value specifying the persons ticket number (NA for crew\n",
    "  members, also see below).\n",
    "* `fare`: a numeric value with the ticket price (NA for crew members, musicians\n",
    "  and employees of the shipyard company, also see below).\n",
    "* `sibsp`: an integer specifying the number of siblings/spouses aboard; adopted\n",
    "  from Vanderbilt data set (see below).  Always NA for crew, sometimes NA for\n",
    "  passengers.\n",
    "* `parch`: an ordered factor specifying the number of parents/children aboard;\n",
    "  adopted from Vanderbilt data set (see below).  Always NA for crew, sometimes\n",
    "  NA for passengers.\n",
    "* `survived`: a string with one of two labels: \"no\" and \"yes\". It specifies\n",
    "  whether the person survived the sinking."
   ]
  },
  {
   "cell_type": "markdown",
   "id": "e99dfe3c",
   "metadata": {},
   "source": [
    "## Women and children first\n",
    "\n",
    "The RMS Titanic sank on 15th April 1912. A standard rule of evacuation at the\n",
    "time was [Women and Children\n",
    "First](https://en.wikipedia.org/wiki/Women_and_children_first).  Wikipedia\n",
    "claims that the original suggestion for this rule was from a French passenger\n",
    "of a ship in danger, in 1840.\n",
    "\n",
    "How strictly was that rule applied in the evacuation of the Titanic?\n",
    "\n",
    "Use `pd.crosstab` to create a new data frame that is a cross-tabulation of the\n",
    "values in the `gender` column, and the values in the `survived` column.  Store\n",
    "this cross-tabulation in the variable `gender_by_survived`.  It should contain\n",
    "four counts, one for `female` passengers who were lost (`no`), one for `female`\n",
    "and `yes` and so on."
   ]
  },
  {
   "cell_type": "code",
   "execution_count": null,
   "id": "30eb5046",
   "metadata": {},
   "outputs": [],
   "source": [
    "gender_by_survived = ...\n",
    "# Show the table in the notebook\n",
    "gender_by_survived"
   ]
  },
  {
   "cell_type": "code",
   "execution_count": null,
   "id": "5ebb014f",
   "metadata": {},
   "outputs": [],
   "source": [
    "# Check you are on the right track.\n",
    "_ = ok.grade('q_02_gender_by_survived')"
   ]
  },
  {
   "cell_type": "markdown",
   "id": "d5e907fb",
   "metadata": {},
   "source": [
    "These counts are useful, but even more useful would be *proportions* of women\n",
    "who were lost and who survived.  Investigate the keyword arguments to\n",
    "`pd.crosstab` to create a new data frame `gender_by_survived_p` that shows the\n",
    "proportions of men and women who survived.  For example, there should be a\n",
    "value for `female` and `no` that is the number of `female` passengers who were\n",
    "lost, divided by the total number of `female` passengers.  That is, you want\n",
    "the proportions across the *rows*."
   ]
  },
  {
   "cell_type": "code",
   "execution_count": null,
   "id": "d56ef894",
   "metadata": {},
   "outputs": [],
   "source": [
    "gender_by_survived_p = ...\n",
    "# Show the table in the notebook\n",
    "gender_by_survived_p"
   ]
  },
  {
   "cell_type": "code",
   "execution_count": null,
   "id": "793567d1",
   "metadata": {},
   "outputs": [],
   "source": [
    "# Check you are on the right track.\n",
    "_ = ok.grade('q_03_gender_by_survived_p')"
   ]
  },
  {
   "cell_type": "markdown",
   "id": "26a29957",
   "metadata": {},
   "source": [
    "This should look like pretty convincing evidence that the crew largely followed\n",
    "the \"women\" part of the \"Women and children first\" rule.  Next we investigate\n",
    "the \"children\" part.\n",
    "\n",
    "We need a Series that allows us to categorize the passenger as a `male`, a\n",
    "`female` or a `child`.\n",
    "\n",
    "First we make a new series `mwc` (Man Woman Child) that has a copy of the data\n",
    "from the `gender` column."
   ]
  },
  {
   "cell_type": "code",
   "execution_count": null,
   "id": "cd43fcc7",
   "metadata": {},
   "outputs": [],
   "source": [
    "# Run this cell.\n",
    "mwc = titanic['gender'].copy()\n",
    "mwc.head()"
   ]
  },
  {
   "cell_type": "markdown",
   "id": "3d994129",
   "metadata": {},
   "source": [
    "Now your turn.  Make a Boolean series named `is_child` that has True for rows\n",
    "where the passenger's `age` was less than 15, and False otherwise.  Use\n",
    "`is_child` to set the corresponding elements in `mwc` to have the value\n",
    "`child`.\n",
    "\n",
    "After you have done this, the `mwc` Series should have a `child` value for rows\n",
    "in `titanic` where the person's age was less than 15, otherwise have a `male`\n",
    "value for male adult passengers or a `female` value for female adult\n",
    "passengers."
   ]
  },
  {
   "cell_type": "code",
   "execution_count": null,
   "id": "d6b85bb0",
   "metadata": {},
   "outputs": [],
   "source": [
    "#- Your code here.\n",
    "# Show the unique values and counts for the \"mwc\" Series.\n",
    "mwc.value_counts()"
   ]
  },
  {
   "cell_type": "code",
   "execution_count": null,
   "id": "dd4c72b2",
   "metadata": {},
   "outputs": [],
   "source": [
    "_ = ok.grade('q_04_mwc')"
   ]
  },
  {
   "cell_type": "markdown",
   "id": "490ef866",
   "metadata": {},
   "source": [
    "Create a cross-tabulation data frame called `mwc_by_survived_p` that has the\n",
    "proportions of children, females and males that were saved and lost.  The\n",
    "*proportion* of children saved is the number of children saved divided by the\n",
    "total number of children.  Your `mwc_by_survived_p` data frame should have, for\n",
    "example, a row corresponding to `child` , that has two values: the proportion\n",
    "of children that were lost and the proportion of children who were saved."
   ]
  },
  {
   "cell_type": "code",
   "execution_count": null,
   "id": "ba86ba98",
   "metadata": {},
   "outputs": [],
   "source": [
    "mwc_by_survived_p = ...\n",
    "mwc_by_survived_p"
   ]
  },
  {
   "cell_type": "code",
   "execution_count": null,
   "id": "d9a530db",
   "metadata": {},
   "outputs": [],
   "source": [
    "_ = ok.grade('q_05_mwc_p')"
   ]
  },
  {
   "cell_type": "markdown",
   "id": "0150ca5a",
   "metadata": {},
   "source": [
    "## Being at the front of the plane\n",
    "\n",
    "The next factor we know well is that passengers in higher classes were more\n",
    "likely to survive.\n",
    "\n",
    "The problem we have at the moment is that the `class` column in this dataset is a mix of things:"
   ]
  },
  {
   "cell_type": "code",
   "execution_count": null,
   "id": "142c860a",
   "metadata": {},
   "outputs": [],
   "source": [
    "# Run this cell.\n",
    "titanic['class'].value_counts()"
   ]
  },
  {
   "cell_type": "markdown",
   "id": "7bceae81",
   "metadata": {},
   "source": [
    "The `class` column contains \"1st\", \"2nd\", \"3rd\" for some people, but it has job\n",
    "titles for others, such as \"deck crew\".\n",
    "\n",
    "Worse than that, some of the people in \"1st\" and \"2nd\" class were closer to\n",
    "being crew than passengers.  For example, there were [8\n",
    "musicians](https://en.wikipedia.org/wiki/Musicians_of_the_RMS_Titanic), who\n",
    "were all listed as \"2nd\" class passengers. There were [9 members of the Guarantee\n",
    "Group](https://en.wikipedia.org/wiki/Crew_of_the_RMS_Titanic#Guarantee_group)\n",
    "on board, whose job was to monitor the ship and fix any problems that arose on\n",
    "her maiden voyage.  They also have passenger classes listed as \"1st\" or \"2nd\".\n",
    "\n",
    "We would like to be able to classify the people (rows) in the dataset as one of the following:\n",
    "\n",
    "* Genuine First class passenger: \"1st\".\n",
    "* Genuine Second class passenger: \"2nd\".\n",
    "* Genuine Third class passenger: \"3rd\".\n",
    "* Musician: \"musician\".\n",
    "* Guarantee group: \"guarantee\".\n",
    "* Deck crew: \"deck\".\n",
    "* Engineering crew: \"engineering\".\n",
    "* Victualling crew or restaurant staff: \"catering\".\n",
    "\n",
    "That is, we need a new Series, maybe called `roles`, with one element per row\n",
    "in the dataset, that has one of these string labels, classifying the person in\n",
    "the corresponding row. For example, the first five people in the dataset are\n",
    "genuine Third Class passengers, so the first five elements in `roles` would be\n",
    "\"3rd\".\n",
    "\n",
    "Much of the information we need is in the `class` column of `titanic` - but we\n",
    "have more work to do, especially for the musicians and the guarantee group.\n",
    "\n",
    "One way of doing this task is to use a *recoding function*.  You saw one of\n",
    "these in action your \"stop and search\" homework.  In the homework, the function\n",
    "applied to a Series (and therefore, a column of a data frame), and, when used\n",
    "with `apply`, returned a Series.\n",
    "\n",
    "Here we need to use information from multiple columns in the person's row to\n",
    "classify them, so we need to take a different approach.   We need to `apply` a\n",
    "function to the whole data frame, to return our new Series `roles`.\n",
    "\n",
    "Here is an example of how to do this.  The function below is a *row recoding\n",
    "function*.  It accepts a *row* as its argument, and returns a value.\n",
    "\n",
    "In this case, the function returns \"adult\" for a row where the person's age was\n",
    "15 or more, and otherwise (for persons with age < 15) returns \"female child\"\n",
    "for \"female\" persons and \"male child\" otherwise."
   ]
  },
  {
   "cell_type": "code",
   "execution_count": null,
   "id": "37741dc6",
   "metadata": {},
   "outputs": [],
   "source": [
    "# Run this cell to create example row classification function\n",
    "\n",
    "def classify_mf_child(row):\n",
    "    if row.loc['age'] >= 15:\n",
    "        return 'adult'\n",
    "    if row.loc['gender'] == 'female':\n",
    "        return 'female child'\n",
    "    return 'male child'"
   ]
  },
  {
   "cell_type": "markdown",
   "id": "3bc2f526",
   "metadata": {},
   "source": [
    "To see the function in action, let's classify the first row of `titanic`:"
   ]
  },
  {
   "cell_type": "code",
   "execution_count": null,
   "id": "babc0891",
   "metadata": {},
   "outputs": [],
   "source": [
    "classify_mf_child(titanic.iloc[0])"
   ]
  },
  {
   "cell_type": "markdown",
   "id": "8c126f09",
   "metadata": {},
   "source": [
    "Classify the second row:"
   ]
  },
  {
   "cell_type": "code",
   "execution_count": null,
   "id": "b0ea09cc",
   "metadata": {},
   "outputs": [],
   "source": [
    "classify_mf_child(titanic.iloc[1])"
   ]
  },
  {
   "cell_type": "markdown",
   "id": "3c25a732",
   "metadata": {},
   "source": [
    "Then we can `apply` this function to the whole data frame, to return a classification for each row in the data frame:"
   ]
  },
  {
   "cell_type": "code",
   "execution_count": null,
   "id": "eaabe133",
   "metadata": {},
   "outputs": [],
   "source": [
    "mf_child = titanic.apply(classify_mf_child, axis='columns')\n",
    "mf_child.head()"
   ]
  },
  {
   "cell_type": "markdown",
   "id": "97e44120",
   "metadata": {},
   "source": [
    "Notice the `axis='columns'` keyword argument.  This tells Pandas to send the\n",
    "function one *row* at a time (working *across the columns*).  It's also\n",
    "possible to send the function one *column* at a time (working *across the\n",
    "rows*), and that it what it does by default, if you don't specify\n",
    "`axis='columns'`.\n",
    "\n",
    "Your job is to write a row classification function, like `classify_mf_child`\n",
    "above, that accepts a single row, and returns the correct string corresponding\n",
    "to that row, from the list above (from \"1st\", \"2nd\", \"3rd\", \"musician\", etc).\n",
    "\n",
    "In order to do this, investigate the `titanic` data set, and have a look at the\n",
    "links above that have more information on the musicians and the Guarantee\n",
    "Group.  See if you can find information online and in the dataset rows that is\n",
    "distinctive enough to identify the 8 musicians, 9 members of the Guarantee\n",
    "Group, and so on.\n",
    "\n",
    "*Hint 1* To test if a string contains another string, you can use the `in` operator like this:"
   ]
  },
  {
   "cell_type": "code",
   "execution_count": null,
   "id": "30f6cd9f",
   "metadata": {},
   "outputs": [],
   "source": [
    "a = 'Bah humbug'\n",
    "'humbug' in a"
   ]
  },
  {
   "cell_type": "markdown",
   "id": "5ed6b284",
   "metadata": {},
   "source": [
    "*Hint 2* To test for a missing value, use `pd.isna()` like this:"
   ]
  },
  {
   "cell_type": "code",
   "execution_count": null,
   "id": "ca9669ba",
   "metadata": {},
   "outputs": [],
   "source": [
    "pd.isna(np.nan)"
   ]
  },
  {
   "cell_type": "code",
   "execution_count": null,
   "id": "df0dcc81",
   "metadata": {},
   "outputs": [],
   "source": [
    "def classify_role(row):\n",
    "    # Your code here"
   ]
  },
  {
   "cell_type": "markdown",
   "id": "56025f89",
   "metadata": {},
   "source": [
    "The next cell tests if you are on the right track with your function:"
   ]
  },
  {
   "cell_type": "code",
   "execution_count": null,
   "id": "a7f9d576",
   "metadata": {},
   "outputs": [],
   "source": [
    "print(classify_role(titanic.iloc[0]))  # Should show '3rd'\n",
    "print(classify_role(titanic.iloc[6]))  # Should show '2nd'\n",
    "print(classify_role(titanic.iloc[-1]))  # Should show 'catering'\n",
    "print(classify_role(titanic.iloc[-3]))  # Should show 'engineering'\n",
    "print(classify_role(titanic.iloc[-4]))  # Should show 'catering'\n",
    "print(classify_role(titanic.iloc[-5]))  # Should show 'deck'\n",
    "is_brailey = titanic['name'].str.startswith('Brailey')\n",
    "print(classify_role(titanic[is_brailey].iloc[0]))  # Should show 'musician'\n",
    "is_andrews = titanic['name'] == 'Andrews, Mr. Thomas'\n",
    "print(classify_role(titanic[is_andrews].iloc[0]))  # Should show 'guarantee'"
   ]
  },
  {
   "cell_type": "code",
   "execution_count": null,
   "id": "cb3a9ddd",
   "metadata": {},
   "outputs": [],
   "source": [
    "# This test runs the tests above, and some extra besides.\n",
    "_ = ok.grade('q_06_classify_role')"
   ]
  },
  {
   "cell_type": "markdown",
   "id": "b1a838d3",
   "metadata": {},
   "source": [
    "`apply` your function to the `titanic` data frame to make a new Series, then\n",
    "use this Series to create a new data frame `role_by_survived_p` that is a\n",
    "cross-tabulation of the *proportion* of *male* passengers with each role, that\n",
    "survived or were lost. For example, `role_by_survived_p` will have a row\n",
    "corresponding to \"catering\", with two values, where one value will be the\n",
    "proportion of *male* catering staff that survived, and the other will be the\n",
    "proportion of male catering staff that were lost."
   ]
  },
  {
   "cell_type": "code",
   "execution_count": null,
   "id": "99300a52",
   "metadata": {},
   "outputs": [],
   "source": [
    "role_by_survived_p = ...\n",
    "role_by_survived_p"
   ]
  },
  {
   "cell_type": "markdown",
   "id": "17bcf90a",
   "metadata": {},
   "source": [
    "## Done\n",
    "\n",
    "You're finished with the assignment!  Be sure to...\n",
    "\n",
    "- **run all the tests** (the next cell has a shortcut for that),\n",
    "- **Save and Checkpoint** from the \"File\" menu.\n",
    "- Finally, **restart** the kernel for this notebook, and **run all the cells**,\n",
    "  to check that the notebook still works without errors.  Use the\n",
    "  \"Kernel\" menu, and choose \"Restart and run all\".  If you find any\n",
    "  problems, go back and fix them, save the notebook, and restart / run\n",
    "  all again, before submitting.  When you do this, you make sure that\n",
    "  we, your humble markers, will be able to mark your notebook."
   ]
  },
  {
   "cell_type": "code",
   "execution_count": null,
   "id": "856c8780",
   "metadata": {},
   "outputs": [],
   "source": [
    "# For your convenience, you can run this cell to run all the tests at once!\n",
    "import os\n",
    "_ = [ok.grade(q[:-3]) for q in os.listdir(\"tests\") if q.startswith('q')]"
   ]
  }
 ],
 "metadata": {
  "jupytext": {
   "split_at_heading": true,
   "text_representation": {
    "extension": ".Rmd",
    "format_name": "rmarkdown",
    "format_version": "1.1",
    "jupytext_version": "1.2.4"
   }
  },
  "kernelspec": {
   "display_name": "Python 3",
   "language": "python",
   "name": "python3"
  }
 },
 "nbformat": 4,
 "nbformat_minor": 5
}
